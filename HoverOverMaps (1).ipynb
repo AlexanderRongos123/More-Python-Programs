{
  "nbformat": 4,
  "nbformat_minor": 0,
  "metadata": {
    "colab": {
      "provenance": []
    },
    "kernelspec": {
      "name": "python3",
      "display_name": "Python 3"
    },
    "language_info": {
      "name": "python"
    }
  },
  "cells": [
    {
      "cell_type": "code",
      "execution_count": 1,
      "metadata": {
        "colab": {
          "base_uri": "https://localhost:8080/",
          "height": 211
        },
        "id": "dSV_O_unXELs",
        "outputId": "19157869-6983-4600-d7ae-eb4b061b5d5e"
      },
      "outputs": [
        {
          "output_type": "error",
          "ename": "FileNotFoundError",
          "evalue": "[Errno 2] No such file or directory: 'eq_data_30_day_m1.json'",
          "traceback": [
            "\u001b[0;31m---------------------------------------------------------------------------\u001b[0m",
            "\u001b[0;31mFileNotFoundError\u001b[0m                         Traceback (most recent call last)",
            "\u001b[0;32m<ipython-input-1-01d607cb31ee>\u001b[0m in \u001b[0;36m<cell line: 0>\u001b[0;34m()\u001b[0m\n\u001b[1;32m      5\u001b[0m \u001b[0;31m# Load the earthquake data\u001b[0m\u001b[0;34m\u001b[0m\u001b[0;34m\u001b[0m\u001b[0m\n\u001b[1;32m      6\u001b[0m \u001b[0mfilename\u001b[0m \u001b[0;34m=\u001b[0m \u001b[0;34m'eq_data_30_day_m1.json'\u001b[0m\u001b[0;34m\u001b[0m\u001b[0;34m\u001b[0m\u001b[0m\n\u001b[0;32m----> 7\u001b[0;31m \u001b[0;32mwith\u001b[0m \u001b[0mopen\u001b[0m\u001b[0;34m(\u001b[0m\u001b[0mfilename\u001b[0m\u001b[0;34m)\u001b[0m \u001b[0;32mas\u001b[0m \u001b[0mf\u001b[0m\u001b[0;34m:\u001b[0m\u001b[0;34m\u001b[0m\u001b[0;34m\u001b[0m\u001b[0m\n\u001b[0m\u001b[1;32m      8\u001b[0m     \u001b[0mall_eq_data\u001b[0m \u001b[0;34m=\u001b[0m \u001b[0mjson\u001b[0m\u001b[0;34m.\u001b[0m\u001b[0mload\u001b[0m\u001b[0;34m(\u001b[0m\u001b[0mf\u001b[0m\u001b[0;34m)\u001b[0m\u001b[0;34m\u001b[0m\u001b[0;34m\u001b[0m\u001b[0m\n\u001b[1;32m      9\u001b[0m     \u001b[0mall_eq_dicts\u001b[0m \u001b[0;34m=\u001b[0m \u001b[0mall_eq_data\u001b[0m\u001b[0;34m[\u001b[0m\u001b[0;34m'features'\u001b[0m\u001b[0;34m]\u001b[0m\u001b[0;34m\u001b[0m\u001b[0;34m\u001b[0m\u001b[0m\n",
            "\u001b[0;31mFileNotFoundError\u001b[0m: [Errno 2] No such file or directory: 'eq_data_30_day_m1.json'"
          ]
        }
      ],
      "source": [
        "import json\n",
        "import plotly.graph_objs as go\n",
        "from plotly.offline import iplot\n",
        "\n",
        "# Load the earthquake data\n",
        "filename = 'eq_data_30_day_m1.json'\n",
        "with open(filename) as f:\n",
        "    all_eq_data = json.load(f)\n",
        "    all_eq_dicts = all_eq_data['features']\n",
        "\n",
        "# Extract necessary information\n",
        "mags, lons, lats, hover_texts = [], [], [], []\n",
        "for eq_dict in all_eq_dicts:\n",
        "    mag = eq_dict['properties']['mag']\n",
        "    lon = eq_dict['geometry']['coordinates'][0]\n",
        "    lat = eq_dict['geometry']['coordinates'][1]\n",
        "    title = eq_dict['properties']['title']\n",
        "    mags.append(mag)\n",
        "    lons.append(lon)\n",
        "    lats.append(lat)\n",
        "    hover_texts.append(title)\n",
        "\n",
        "# Create the Scattergeo plot\n",
        "trace = go.Scattergeo(\n",
        "    lon=lons,\n",
        "    lat=lats,\n",
        "    text=hover_texts,\n",
        "    marker=dict(\n",
        "        size=[5 * mag for mag in mags],  # Adjust marker size based on magnitude\n",
        "        color=mags,  # Color by magnitude\n",
        "        colorscale='Viridis',\n",
        "        reversescale=True,\n",
        "        colorbar=dict(title='Magnitude'),\n",
        "    )\n",
        ")\n",
        "\n",
        "# Layout for the map\n",
        "layout = go.Layout(\n",
        "    title='Global Earthquakes',\n",
        "    geo=dict(\n",
        "        showland=True,\n",
        "        landcolor='lightgray',\n",
        "        lakecolor='white'\n",
        "    )\n",
        ")\n",
        "\n",
        "# Create the figure and plot it\n",
        "fig = go.Figure(data=[trace], layout=layout)\n",
        "\n",
        "# Display the plot in Colab\n",
        "iplot(fig)"
      ]
    }
  ]
}